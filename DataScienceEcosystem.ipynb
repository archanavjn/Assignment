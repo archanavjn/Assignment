{
 "cells": [
  {
   "cell_type": "markdown",
   "id": "5a7167a7",
   "metadata": {},
   "source": [
    "# Data Science Tools and Ecosystem"
   ]
  },
  {
   "cell_type": "markdown",
   "id": "45b6e6fa",
   "metadata": {},
   "source": [
    "In this notebook, Data Science Tools and Ecosystem are summarized."
   ]
  },
  {
   "cell_type": "markdown",
   "id": "e3000306",
   "metadata": {},
   "source": [
    "<b> Objectives:\n",
    "- List popular languages for Data Science\n",
    "- List libraries used by data scientists\n",
    "- Give examples of arithmetic expressions in Python"
   ]
  },
  {
   "cell_type": "markdown",
   "id": "2e7e53cc",
   "metadata": {},
   "source": [
    "Some of the popular languages that Data Scientists use are:\n",
    "1. Python\n",
    "2. R\n",
    "3. SQL\n",
    "4. Scala"
   ]
  },
  {
   "cell_type": "markdown",
   "id": "90a7957e",
   "metadata": {},
   "source": [
    "Some of the commonly used libraries used by Data Scientists include:\n",
    "1. NumPy\n",
    "2. SciPy\n",
    "3. Matplotlib"
   ]
  },
  {
   "cell_type": "markdown",
   "id": "b07aa460",
   "metadata": {},
   "source": [
    "| Data Science Tools |\n",
    "------------------------------\n",
    "| RStudio            |               \n",
    "| Apache Spark       |               \n",
    "| TensorFlow         |               "
   ]
  },
  {
   "cell_type": "markdown",
   "id": "30eb2ad3",
   "metadata": {},
   "source": [
    "### Below are a few examples of evaluating arithmetic expressions in Python\n"
   ]
  },
  {
   "cell_type": "code",
   "execution_count": 1,
   "id": "3cd5a47c",
   "metadata": {},
   "outputs": [
    {
     "name": "stdout",
     "output_type": "stream",
     "text": [
      "17\n"
     ]
    }
   ],
   "source": [
    "#This a simple arithmetic expression to mutiply then add integers\n",
    "\n",
    "print((3*4)+5)"
   ]
  },
  {
   "cell_type": "code",
   "execution_count": 7,
   "id": "e98203dc",
   "metadata": {},
   "outputs": [
    {
     "name": "stdout",
     "output_type": "stream",
     "text": [
      "Hour: Minutes = 3 : 20\n"
     ]
    }
   ],
   "source": [
    "#This will convert 200 minutes to hours by diving by 60\n",
    "\n",
    "minute = int(\"200\")\n",
    "print(\"Hour: Minutes =\" , int(minute/60),\":\", minute%60)"
   ]
  },
  {
   "cell_type": "markdown",
   "id": "f98bb40c",
   "metadata": {},
   "source": [
    "## Author\n",
    "Archana Vijayan"
   ]
  },
  {
   "cell_type": "code",
   "execution_count": null,
   "id": "9c1e0021",
   "metadata": {},
   "outputs": [],
   "source": []
  }
 ],
 "metadata": {
  "kernelspec": {
   "display_name": "Python 3 (ipykernel)",
   "language": "python",
   "name": "python3"
  },
  "language_info": {
   "codemirror_mode": {
    "name": "ipython",
    "version": 3
   },
   "file_extension": ".py",
   "mimetype": "text/x-python",
   "name": "python",
   "nbconvert_exporter": "python",
   "pygments_lexer": "ipython3",
   "version": "3.10.9"
  }
 },
 "nbformat": 4,
 "nbformat_minor": 5
}
